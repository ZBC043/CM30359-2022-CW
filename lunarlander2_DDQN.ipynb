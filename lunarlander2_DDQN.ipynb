{
 "cells": [
  {
   "cell_type": "code",
   "execution_count": null,
   "id": "2c8b8d5a",
   "metadata": {},
   "outputs": [],
   "source": [
    "from class_utils2 import ddqn_agent \n",
    "import numpy as np\n",
    "import gym \n",
    "\n",
    "env = gym.make(\"LunarLander-v2\")\n",
    "\n",
    "obs_space = env.observation_space\n",
    "action_space = env.action_space\n",
    "\n",
    "episode_num = 5\n",
    "\n",
    "#--------------------ddqn agent parameters-----------------------------\n",
    "gamma = 0.99\n",
    "epsilon = 1.0\n",
    "epsilon_dec = 0.996\n",
    "epsilon_end = 0.1\n",
    "buffer_size = 32000\n",
    "batch_size = 32\n",
    "learning_rate = 0.001 #by default = 0.001 change by passing in Adam(lr=learning_rate)\n",
    "#--------------------ddqn agent parameters-----------------------------\n",
    "\n",
    "total_scores = []\n",
    "mean_scores = []\n",
    "agent = ddqn_agent(gamma, epsilon, buffer_size, batch_size, epsilon_dec, epsilon_end)    #takes in gamma episilon and buffer size of memory and batch_size. learning rate(alpha) can be passed"
   ]
  },
  {
   "cell_type": "code",
   "execution_count": null,
   "id": "6fad0172",
   "metadata": {},
   "outputs": [],
   "source": [
    "for episode_count in range(0, episode_num):\n",
    "    terminal = False\n",
    "    score = 0\n",
    "    state, dummy = env.reset()\n",
    "    action_count = 0\n",
    "    while not terminal:\n",
    "        action, action_array = agent.choose_action(state)\n",
    "\n",
    "        next_state, reward, terminal, dummy2, dummy3 = env.step(action)\n",
    "        agent.store(state, action, reward, next_state, terminal)\n",
    "        score += reward\n",
    "        state = next_state\n",
    "    \n",
    "        epsilon = agent.calculate()\n",
    "        if(action_count >= 1000):\n",
    "            break\n",
    "        action_count += 1\n",
    "    total_scores.append(score)\n",
    "    mean = np.mean(total_scores)\n",
    "    mean_scores.append(mean)\n",
    "    print(\"episode: \", episode_count, \" score: \", score, \" mean score: \", mean)\n",
    "\n",
    "agent.save_vals()"
   ]
  },
  {
   "cell_type": "code",
   "execution_count": null,
   "id": "b3da9724",
   "metadata": {},
   "outputs": [],
   "source": [
    "print(len(mean_scores))\n",
    "print(len(total_scores))"
   ]
  },
  {
   "cell_type": "code",
   "execution_count": null,
   "id": "bb60917b",
   "metadata": {},
   "outputs": [],
   "source": [
    "import matplotlib.pyplot as plt\n",
    "\n",
    "x_axis = list(range(0, 250))\n",
    "y_axis = mean_scores\n",
    "\n",
    "plt.plot(x_axis, y_axis)\n",
    "plt.title('Mean Scores')\n",
    "plt.xlabel('Episode')\n",
    "plt.ylabel('Mean Score')\n",
    "plt.show()"
   ]
  },
  {
   "cell_type": "code",
   "execution_count": null,
   "id": "342371c2",
   "metadata": {},
   "outputs": [],
   "source": [
    "x_axis = list(range(0, 250))\n",
    "y_axis = total_scores\n",
    "\n",
    "plt.plot(x_axis, y_axis)\n",
    "plt.title('Total Scores')\n",
    "plt.xlabel('Episodes')\n",
    "plt.ylabel('Scores')\n",
    "plt.show()"
   ]
  },
  {
   "cell_type": "code",
   "execution_count": null,
   "id": "95df156e",
   "metadata": {},
   "outputs": [],
   "source": [
    "import numpy as np\n",
    "\n",
    "def movingaverage(interval, window_size):\n",
    "    window= np.ones(int(window_size))/float(window_size)\n",
    "    return np.convolve(interval, window, 'same')\n",
    "\n",
    "x = list(range(0, 250))\n",
    "y = total_scores\n",
    "\n",
    "y_av = movingaverage(y, 20)\n",
    "plt.plot(x, y_av)\n",
    "plt.xlim(0,250)\n",
    "plt.xlabel(\"Episode\")\n",
    "plt.ylabel(\"Score\")\n",
    "plt.grid(True)\n",
    "plt.show()"
   ]
  }
 ],
 "metadata": {
  "kernelspec": {
   "display_name": "Python 3 (ipykernel)",
   "language": "python",
   "name": "python3"
  },
  "language_info": {
   "codemirror_mode": {
    "name": "ipython",
    "version": 3
   },
   "file_extension": ".py",
   "mimetype": "text/x-python",
   "name": "python",
   "nbconvert_exporter": "python",
   "pygments_lexer": "ipython3",
   "version": "3.9.12 (main, Apr  4 2022, 05:22:27) [MSC v.1916 64 bit (AMD64)]"
  },
  "vscode": {
   "interpreter": {
    "hash": "edbb2447e55a42b4628f21eefb857b61d0020ac0febcdee91e5d523dd661a8e5"
   }
  }
 },
 "nbformat": 4,
 "nbformat_minor": 5
}
