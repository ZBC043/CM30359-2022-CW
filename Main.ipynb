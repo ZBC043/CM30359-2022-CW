{
 "cells": [
  {
   "cell_type": "code",
   "execution_count": 1,
   "id": "7dab08b9",
   "metadata": {},
   "outputs": [],
   "source": [
    "import numpy as np\n",
    "import gym\n",
    "import random\n",
    "\n",
    "\n",
    "class replay_memory():\n",
    "    def __init__(self, max_buffer_size):\n",
    "        self.max_buffer_size = max_buffer_size \n",
    "        self.buffer = np.empty(shape=(max_buffer_size), dtype=object)\n",
    "        self.buffer_idx = 0\n",
    "        self.size = 0\n",
    "        \n",
    "    def print_buffer(self):\n",
    "        print(self.buffer)\n",
    "    \n",
    "    def append_buffer(self, state, reward, action, new_state, done):\n",
    "        self.buffer[self.buffer_idx] = [state, reward, action, new_state, done]\n",
    "        self.size = min(self.size+1, self.max_buffer_size)\n",
    "        self.buffer_idx = (self.buffer_idx + 1) % self.max_buffer_size\n",
    "        \n",
    "    def sample_buffer(self, batch_size):\n",
    "        if self.size >= batch_size:\n",
    "            return np.random.choice(self.buffer[0:self.size], batch_size)\n",
    "        return 0"
   ]
  },
  {
   "cell_type": "code",
   "execution_count": 2,
   "id": "408f3080",
   "metadata": {},
   "outputs": [
    {
     "name": "stdout",
     "output_type": "stream",
     "text": [
      "[None None None None None]\n",
      "[list([[1, 2, 3], 6, 6, [3, 2, 1], False])\n",
      " list([[1, 2, 3], 5, 5, [3, 2, 1], False])\n",
      " list([[1, 2, 3], 5, 5, [3, 2, 1], False])\n",
      " list([[1, 2, 3], 7, 7, [3, 2, 1], False])]\n"
     ]
    }
   ],
   "source": [
    "#buffer test \n",
    "\n",
    "buffer = replay_memory(5)\n",
    "buffer.print_buffer()\n",
    "\n",
    "buffer.append_buffer([1,2,3], 1, 1, [3,2,1], False)\n",
    "buffer.append_buffer([1,2,3], 2, 2, [3,2,1], False)\n",
    "buffer.append_buffer([1,2,3], 3, 3, [3,2,1], False)\n",
    "buffer.append_buffer([1,2,3], 4, 4, [3,2,1], False)\n",
    "buffer.append_buffer([1,2,3], 5, 5, [3,2,1], False)\n",
    "buffer.append_buffer([1,2,3], 6, 6, [3,2,1], False)\n",
    "buffer.append_buffer([1,2,3], 7, 7, [3,2,1], False)\n",
    "\n",
    "output = buffer.sample_buffer(4)\n",
    "print(output)"
   ]
  },
  {
   "cell_type": "code",
   "execution_count": 3,
   "id": "b3ee37a3",
   "metadata": {},
   "outputs": [
    {
     "ename": "NameError",
     "evalue": "name 'car_class' is not defined",
     "output_type": "error",
     "traceback": [
      "\u001b[0;31m---------------------------------------------------------------------------\u001b[0m",
      "\u001b[0;31mNameError\u001b[0m                                 Traceback (most recent call last)",
      "\u001b[0;32m/var/folders/js/26krh54x4f18ftg13_jl2jwr0000gn/T/ipykernel_74598/1650136104.py\u001b[0m in \u001b[0;36m<module>\u001b[0;34m\u001b[0m\n\u001b[1;32m      5\u001b[0m \u001b[0menv\u001b[0m \u001b[0;34m=\u001b[0m \u001b[0mgym\u001b[0m\u001b[0;34m.\u001b[0m\u001b[0mmake\u001b[0m\u001b[0;34m(\u001b[0m\u001b[0;34m\"CarRacing-v2\"\u001b[0m\u001b[0;34m,\u001b[0m \u001b[0mrender_mode\u001b[0m\u001b[0;34m=\u001b[0m\u001b[0;34m\"human\"\u001b[0m\u001b[0;34m)\u001b[0m\u001b[0;34m\u001b[0m\u001b[0;34m\u001b[0m\u001b[0m\n\u001b[1;32m      6\u001b[0m \u001b[0menv\u001b[0m\u001b[0;34m.\u001b[0m\u001b[0mreset\u001b[0m\u001b[0;34m(\u001b[0m\u001b[0;34m)\u001b[0m\u001b[0;34m\u001b[0m\u001b[0;34m\u001b[0m\u001b[0m\n\u001b[0;32m----> 7\u001b[0;31m \u001b[0mcar\u001b[0m \u001b[0;34m=\u001b[0m \u001b[0mcar_class\u001b[0m\u001b[0;34m(\u001b[0m\u001b[0;34m)\u001b[0m\u001b[0;34m\u001b[0m\u001b[0;34m\u001b[0m\u001b[0m\n\u001b[0m\u001b[1;32m      8\u001b[0m \u001b[0;31m#need to initualize replay buffer but this should be done in another class\u001b[0m\u001b[0;34m\u001b[0m\u001b[0;34m\u001b[0m\u001b[0m\n\u001b[1;32m      9\u001b[0m \u001b[0;34m\u001b[0m\u001b[0m\n",
      "\u001b[0;31mNameError\u001b[0m: name 'car_class' is not defined"
     ]
    }
   ],
   "source": [
    "n_episodes = 10001 \n",
    "total_reward = 0 \n",
    "\n",
    "#initialize\n",
    "env = gym.make(\"CarRacing-v2\", render_mode=\"human\")\n",
    "env.reset()\n",
    "car = car_class()\n",
    "#need to initualize replay buffer but this should be done in another class\n",
    "\n",
    "for ep_num in (n_episodes):\n",
    "    state = env.reset()  #initialize S\n",
    "    while not done:\n",
    "        \n",
    "        #select action A using actor network(state) + Noise\n",
    "        action = car.get_action(state)\n",
    "        #execute action\n",
    "        new_state, reward, done, info, dict1 = env.step(action)\n",
    "        episode_reward += reward\n",
    "        #store transaction (S, A, R, S') in replay memory\n",
    "        car.store_buffer(state, action, reward, new_state)\n",
    "        #for each transition (S, A, R, S') in minibatch from replay memory\n",
    "        minibatch = car.get_minibatch()\n",
    "        for transition in minibatch:\n",
    "            # calculate y using target actor\n",
    "            #perform gradient descent step for critic using adam optimzier on the NN\n",
    "            #perform gradient ascent step for actor using adam optimizer\n",
    "            car.learn()\n",
    "            car.update_params(target_actor)\n",
    "            car.update_params(target_critic)"
   ]
  },
  {
   "cell_type": "code",
   "execution_count": null,
   "id": "6f8fd432",
   "metadata": {},
   "outputs": [],
   "source": []
  },
  {
   "cell_type": "code",
   "execution_count": null,
   "id": "7cd57561",
   "metadata": {},
   "outputs": [],
   "source": []
  }
 ],
 "metadata": {
  "kernelspec": {
   "display_name": "Python 3 (ipykernel)",
   "language": "python",
   "name": "python3"
  },
  "language_info": {
   "codemirror_mode": {
    "name": "ipython",
    "version": 3
   },
   "file_extension": ".py",
   "mimetype": "text/x-python",
   "name": "python",
   "nbconvert_exporter": "python",
   "pygments_lexer": "ipython3",
   "version": "3.9.13"
  }
 },
 "nbformat": 4,
 "nbformat_minor": 5
}
