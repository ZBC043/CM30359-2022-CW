{
 "cells": [
  {
   "cell_type": "code",
   "execution_count": 1,
   "id": "b3ee37a3",
   "metadata": {},
   "outputs": [
    {
     "ename": "IndentationError",
     "evalue": "expected an indented block (3743489563.py, line 14)",
     "output_type": "error",
     "traceback": [
      "\u001b[1;36m  Cell \u001b[1;32mIn [1], line 14\u001b[1;36m\u001b[0m\n\u001b[1;33m    for ep_num in (n_episodes):\u001b[0m\n\u001b[1;37m                               ^\u001b[0m\n\u001b[1;31mIndentationError\u001b[0m\u001b[1;31m:\u001b[0m expected an indented block\n"
     ]
    }
   ],
   "source": [
    "import numpy as np\n",
    "import gym\n",
    "\n",
    "\n",
    "#Parameters\n",
    "n_episodes = 10001 \n",
    "total_reward = 0 \n",
    "\n",
    "#initialize\n",
    "env = gym.make(\"CarRacing-v2\", render_mode=\"human\")\n",
    "env.reset()\n",
    "car = car_class()\n",
    "#need to initualize replay buffer but this should be done in another class\n",
    "\n",
    "for ep_num in (n_episodes):\n",
    "    state = env.reset()  #initialize S\n",
    "    while not done:\n",
    "        \n",
    "        #select action A using actor network(state) + Noise\n",
    "        action = car.get_action(state)\n",
    "        #execute action\n",
    "        new_state, reward, done, info, dict1 = env.step(action)\n",
    "        episode_reward += reward\n",
    "        #store transaction (S, A, R, S') in replay memory\n",
    "        car.store_buffer(state, action, reward, new_state)\n",
    "        #for each transition (S, A, R, S') in minibatch from replay memory\n",
    "        minibatch = car.get_minibatch()\n",
    "        for transition in minibatch:\n",
    "            # calculate y using target actor\n",
    "            #perform gradient descent step for critic using adam optimzier on the NN\n",
    "            #perform gradient ascent step for actor using adam optimizer\n",
    "            car.learn()\n",
    "            car.update_params(target_actor)\n",
    "            car.update_params(target_critic)\n",
    "            \n",
    "        \n",
    "            \n",
    "            \n",
    "            \n",
    "            \n",
    "    \n"
   ]
  },
  {
   "cell_type": "code",
   "execution_count": null,
   "id": "49242536",
   "metadata": {},
   "outputs": [],
   "source": []
  }
 ],
 "metadata": {
  "kernelspec": {
   "display_name": "Python 3 (ipykernel)",
   "language": "python",
   "name": "python3"
  },
  "language_info": {
   "codemirror_mode": {
    "name": "ipython",
    "version": 3
   },
   "file_extension": ".py",
   "mimetype": "text/x-python",
   "name": "python",
   "nbconvert_exporter": "python",
   "pygments_lexer": "ipython3",
   "version": "3.9.12"
  }
 },
 "nbformat": 4,
 "nbformat_minor": 5
}
