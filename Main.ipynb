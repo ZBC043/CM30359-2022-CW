{
 "cells": [
  {
   "cell_type": "code",
   "execution_count": 52,
   "id": "b3ee37a3",
   "metadata": {},
   "outputs": [],
   "source": [
    "import numpy as np\n",
    "import gym\n",
    "\n",
    "\n",
    "import random\n",
    "\n",
    "\n",
    "class replay_memory():\n",
    "    def __init__(self, max_buffer_size):\n",
    "        self.max_buffer_size = max_buffer_size \n",
    "        self.buffer = np.empty(shape=(max_buffer_size), dtype=object)\n",
    "        self.buffer_idx = 0\n",
    "        self.size = 0\n",
    "        \n",
    "    def print_buffer(self):\n",
    "        print(self.buffer)\n",
    "    \n",
    "    def append_buffer(self, state, reward, action, new_state, done):\n",
    "        self.buffer[self.buffer_idx] = [state, reward, action, new_state, done]\n",
    "        self.size = min(self.size+1, self.max_buffer_size)\n",
    "        self.buffer_idx = (self.buffer_idx + 1) % self.max_buffer_size\n",
    "        \n",
    "    def sample_buffer(self, batch_size):\n",
    "        if self.size >= batch_size:\n",
    "            return np.random.choice(self.buffer[0:self.size], batch_size)\n",
    "        return 0\n",
    "    \n",
    "    \n"
   ]
  },
  {
   "cell_type": "code",
   "execution_count": 55,
   "id": "0450011a",
   "metadata": {},
   "outputs": [
    {
     "name": "stdout",
     "output_type": "stream",
     "text": [
      "[None None None None None]\n",
      "[list([[1, 2, 3], 5, 5, [3, 2, 1], False])\n",
      " list([[1, 2, 3], 3, 3, [3, 2, 1], False])\n",
      " list([[1, 2, 3], 3, 3, [3, 2, 1], False])\n",
      " list([[1, 2, 3], 7, 7, [3, 2, 1], False])]\n"
     ]
    }
   ],
   "source": [
    "#buffer test \n",
    "\n",
    "buffer = replay_memory(5)\n",
    "buffer.print_buffer()\n",
    "\n",
    "buffer.append_buffer([1,2,3], 1, 1, [3,2,1], False)\n",
    "buffer.append_buffer([1,2,3], 2, 2, [3,2,1], False)\n",
    "buffer.append_buffer([1,2,3], 3, 3, [3,2,1], False)\n",
    "buffer.append_buffer([1,2,3], 4, 4, [3,2,1], False)\n",
    "buffer.append_buffer([1,2,3], 5, 5, [3,2,1], False)\n",
    "buffer.append_buffer([1,2,3], 6, 6, [3,2,1], False)\n",
    "buffer.append_buffer([1,2,3], 7, 7, [3,2,1], False)\n",
    "\n",
    "output = buffer.sample_buffer(4)\n",
    "print(output)\n"
   ]
  },
  {
   "cell_type": "code",
   "execution_count": null,
   "id": "49242536",
   "metadata": {},
   "outputs": [],
   "source": [
    "n_episodes = 10001 \n",
    "total_reward = 0 \n",
    "\n",
    "#initialize\n",
    "env = gym.make(\"CarRacing-v2\", render_mode=\"human\")\n",
    "env.reset()\n",
    "car = car_class()\n",
    "#need to initualize replay buffer but this should be done in another class\n",
    "\n",
    "for ep_num in (n_episodes):\n",
    "    state = env.reset()  #initialize S\n",
    "    while not done:\n",
    "        \n",
    "        #select action A using actor network(state) + Noise\n",
    "        action = car.get_action(state)\n",
    "        #execute action\n",
    "        new_state, reward, done, info, dict1 = env.step(action)\n",
    "        episode_reward += reward\n",
    "        #store transaction (S, A, R, S') in replay memory\n",
    "        car.store_buffer(state, action, reward, new_state)\n",
    "        #for each transition (S, A, R, S') in minibatch from replay memory\n",
    "        minibatch = car.get_minibatch()\n",
    "        for transition in minibatch:\n",
    "            # calculate y using target actor\n",
    "            #perform gradient descent step for critic using adam optimzier on the NN\n",
    "            #perform gradient ascent step for actor using adam optimizer\n",
    "            car.learn()\n",
    "            car.update_params(target_actor)\n",
    "            car.update_params(target_critic)"
   ]
  }
 ],
 "metadata": {
  "kernelspec": {
   "display_name": "Python 3 (ipykernel)",
   "language": "python",
   "name": "python3"
  },
  "language_info": {
   "codemirror_mode": {
    "name": "ipython",
    "version": 3
   },
   "file_extension": ".py",
   "mimetype": "text/x-python",
   "name": "python",
   "nbconvert_exporter": "python",
   "pygments_lexer": "ipython3",
   "version": "3.9.12"
  }
 },
 "nbformat": 4,
 "nbformat_minor": 5
}
