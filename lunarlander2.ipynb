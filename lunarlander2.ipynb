{
 "cells": [
  {
   "cell_type": "code",
   "execution_count": null,
   "id": "417157fa",
   "metadata": {},
   "outputs": [],
   "source": [
    "from class_utils2 import ddqn_agent \n",
    "import numpy as np\n",
    "import gym \n",
    "\n",
    "env = gym.make(\"LunarLander-v2\", render_mode=\"human\")\n",
    "\n",
    "obs_space = env.observation_space\n",
    "action_space = env.action_space\n",
    "# print(\"observation space : \", obs_space)\n",
    "# print(\"action_space : \", action_space)\n",
    "\n",
    "#action space [0 = do nothing, 1 = fire left, 2 =  fire right, 3 = fire main (middle)]\n",
    "\n",
    "episode_num = 10\n",
    "\n",
    "\n",
    "#--------------------ddqn agent parameters-----------------------------\n",
    "gamma = 0.99\n",
    "epsilon = 0\n",
    "buffer_size = 50\n",
    "batch_size = 5\n",
    "learning_rate = 0.001 #by default = 0.001 change by passing in Adam(lr=learning_rate)\n",
    "#--------------------ddqn agent parameters-----------------------------\n",
    "\n",
    "\n",
    "\n",
    "agent = ddqn_agent(gamma, epsilon, buffer_size, batch_size)    #takes in gamma episilon and buffer size of memory and batch_size. learning rate(alpha) can be passed\n",
    "\n",
    "for episode_count in range(episode_num):\n",
    "    terminal = False\n",
    "    score = 0\n",
    "    state, dummy = env.reset()\n",
    "    while not terminal:\n",
    "        action, action_array = agent.choose_action(state)\n",
    "\n",
    "        #print(\"action_array\", action_array)\n",
    "        #print(\"chosen_action\", action)\n",
    "        next_state, reward, terminal, dummy2, dummy3 = env.step(action)\n",
    "        agent.store(state, action, reward, next_state, terminal)\n",
    "        state = next_state\n",
    "        print(agent.calculate())\n",
    "        terminal = True"
   ]
  }
 ],
 "metadata": {
  "kernelspec": {
   "display_name": "Python 3 (ipykernel)",
   "language": "python",
   "name": "python3"
  },
  "language_info": {
   "codemirror_mode": {
    "name": "ipython",
    "version": 3
   },
   "file_extension": ".py",
   "mimetype": "text/x-python",
   "name": "python",
   "nbconvert_exporter": "python",
   "pygments_lexer": "ipython3",
   "version": "3.9.13"
  }
 },
 "nbformat": 4,
 "nbformat_minor": 5
}
