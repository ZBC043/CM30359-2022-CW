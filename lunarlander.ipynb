{
 "cells": [
  {
   "cell_type": "code",
   "execution_count": 1,
   "id": "905d3971",
   "metadata": {},
   "outputs": [
    {
     "name": "stderr",
     "output_type": "stream",
     "text": [
      "2022-11-28 16:26:49.371006: I tensorflow/core/platform/cpu_feature_guard.cc:193] This TensorFlow binary is optimized with oneAPI Deep Neural Network Library (oneDNN) to use the following CPU instructions in performance-critical operations:  AVX2 FMA\n",
      "To enable them in other operations, rebuild TensorFlow with the appropriate compiler flags.\n",
      "2022-11-28 16:27:00.426950: I tensorflow/core/platform/cpu_feature_guard.cc:193] This TensorFlow binary is optimized with oneAPI Deep Neural Network Library (oneDNN) to use the following CPU instructions in performance-critical operations:  AVX2 FMA\n",
      "To enable them in other operations, rebuild TensorFlow with the appropriate compiler flags.\n"
     ]
    },
    {
     "name": "stdout",
     "output_type": "stream",
     "text": [
      "1/1 [==============================] - 0s 131ms/step\n",
      "\n",
      "1/1 [==============================] - 0s 13ms/step\n",
      "\n",
      "1/1 [==============================] - 0s 13ms/step\n",
      "\n",
      "1/1 [==============================] - 0s 14ms/step\n",
      "\n",
      "1/1 [==============================] - 0s 13ms/step\n"
     ]
    },
    {
     "ename": "NameError",
     "evalue": "name 'learn' is not defined",
     "output_type": "error",
     "traceback": [
      "\u001b[0;31m---------------------------------------------------------------------------\u001b[0m",
      "\u001b[0;31mNameError\u001b[0m                                 Traceback (most recent call last)",
      "\u001b[0;32m/var/folders/js/26krh54x4f18ftg13_jl2jwr0000gn/T/ipykernel_8622/2525474484.py\u001b[0m in \u001b[0;36m<module>\u001b[0;34m\u001b[0m\n\u001b[1;32m     39\u001b[0m         \u001b[0magent\u001b[0m\u001b[0;34m.\u001b[0m\u001b[0mstore\u001b[0m\u001b[0;34m(\u001b[0m\u001b[0mstate\u001b[0m\u001b[0;34m,\u001b[0m \u001b[0maction\u001b[0m\u001b[0;34m,\u001b[0m \u001b[0mreward\u001b[0m\u001b[0;34m,\u001b[0m \u001b[0mnext_state\u001b[0m\u001b[0;34m,\u001b[0m \u001b[0mterminal\u001b[0m\u001b[0;34m)\u001b[0m\u001b[0;34m\u001b[0m\u001b[0;34m\u001b[0m\u001b[0m\n\u001b[1;32m     40\u001b[0m         \u001b[0mstate\u001b[0m \u001b[0;34m=\u001b[0m \u001b[0mnext_state\u001b[0m\u001b[0;34m\u001b[0m\u001b[0;34m\u001b[0m\u001b[0m\n\u001b[0;32m---> 41\u001b[0;31m         \u001b[0magent\u001b[0m\u001b[0;34m.\u001b[0m\u001b[0mcalculate\u001b[0m\u001b[0;34m(\u001b[0m\u001b[0;34m)\u001b[0m\u001b[0;34m\u001b[0m\u001b[0;34m\u001b[0m\u001b[0m\n\u001b[0m\u001b[1;32m     42\u001b[0m \u001b[0;34m\u001b[0m\u001b[0m\n",
      "\u001b[0;32m~/Desktop/Bath/Y4/CM30359- Reinforcement learning/CM30359-2022-CW/class_utils.py\u001b[0m in \u001b[0;36mcalculate\u001b[0;34m(self)\u001b[0m\n\u001b[1;32m     93\u001b[0m \u001b[0;34m\u001b[0m\u001b[0m\n\u001b[1;32m     94\u001b[0m         \u001b[0;32melse\u001b[0m\u001b[0;34m:\u001b[0m \u001b[0;31m#Memory >= Batch Size\u001b[0m\u001b[0;34m\u001b[0m\u001b[0;34m\u001b[0m\u001b[0m\n\u001b[0;32m---> 95\u001b[0;31m             \u001b[0mlearn\u001b[0m\u001b[0;34m(\u001b[0m\u001b[0;34m)\u001b[0m \u001b[0;31m#Perform Subscripting\u001b[0m\u001b[0;34m\u001b[0m\u001b[0;34m\u001b[0m\u001b[0m\n\u001b[0m\u001b[1;32m     96\u001b[0m \u001b[0;34m\u001b[0m\u001b[0m\n\u001b[1;32m     97\u001b[0m \u001b[0;34m\u001b[0m\u001b[0m\n",
      "\u001b[0;31mNameError\u001b[0m: name 'learn' is not defined"
     ]
    }
   ],
   "source": [
    "from class_utils import ddqn_agent \n",
    "import numpy as np\n",
    "import gym \n",
    "\n",
    "env = gym.make(\"LunarLander-v2\", render_mode=\"human\")\n",
    "\n",
    "obs_space = env.observation_space\n",
    "action_space = env.action_space\n",
    "# print(\"observation space : \", obs_space)\n",
    "# print(\"action_space : \", action_space)\n",
    "\n",
    "#action space [0 = do nothing, 1 = fire left, 2 =  fire right, 3 = fire main (middle)]\n",
    "\n",
    "episode_num = 10\n",
    "\n",
    "\n",
    "#--------------------ddqn agent parameters-----------------------------\n",
    "gamma = 0.99\n",
    "epsilon = 0\n",
    "buffer_size = 50\n",
    "batch_size = 5\n",
    "learning_rate = 0.001 #by default = 0.001 change by passing in Adam(lr=learning_rate)\n",
    "#--------------------ddqn agent parameters-----------------------------\n",
    "\n",
    "\n",
    "\n",
    "agent = ddqn_agent(gamma, epsilon, buffer_size, batch_size)    #takes in gamma episilon and buffer size of memory and batch_size. learning rate(alpha) can be passed\n",
    "\n",
    "for episode_count in range(episode_num):\n",
    "    terminal = False\n",
    "    score = 0\n",
    "    state, dummy = env.reset()\n",
    "    while not terminal:\n",
    "        action, action_array = agent.choose_action(state)\n",
    "\n",
    "        #print(\"action_array\", action_array)\n",
    "        #print(\"chosen_action\", action)\n",
    "        next_state, reward, terminal, dummy2, dummy3 = env.step(action)\n",
    "        agent.store(state, action, reward, next_state, terminal)\n",
    "        state = next_state\n",
    "        agent.calculate()\n",
    "        "
   ]
  },
  {
   "cell_type": "code",
   "execution_count": null,
   "id": "6253209c",
   "metadata": {},
   "outputs": [],
   "source": []
  }
 ],
 "metadata": {
  "kernelspec": {
   "display_name": "Python 3 (ipykernel)",
   "language": "python",
   "name": "python3"
  },
  "language_info": {
   "codemirror_mode": {
    "name": "ipython",
    "version": 3
   },
   "file_extension": ".py",
   "mimetype": "text/x-python",
   "name": "python",
   "nbconvert_exporter": "python",
   "pygments_lexer": "ipython3",
   "version": "3.9.13"
  },
  "vscode": {
   "interpreter": {
    "hash": "edbb2447e55a42b4628f21eefb857b61d0020ac0febcdee91e5d523dd661a8e5"
   }
  }
 },
 "nbformat": 4,
 "nbformat_minor": 5
}
