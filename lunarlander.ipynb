{
 "cells": [
  {
   "cell_type": "code",
   "execution_count": 1,
   "id": "905d3971",
   "metadata": {},
   "outputs": [
    {
     "name": "stdout",
     "output_type": "stream",
     "text": [
      "1/1 [==============================] - 0s 68ms/step\n",
      "[[array([ 0.00761414,  1.4118499 ,  0.771227  ,  0.04129391, -0.00881624,\n",
      "       -0.17469457,  0.        ,  0.        ], dtype=float32), 0.19625775681200366, 1, array([ 0.01516666,  1.4122119 ,  0.7624065 ,  0.01603511, -0.01588728,\n",
      "       -0.14143346,  0.        ,  0.        ], dtype=float32), False]]\n",
      "1/1 [==============================] - 0s 17ms/step\n",
      "[[array([ 0.00785179,  1.4205067 ,  0.7952785 ,  0.42605245, -0.00909141,\n",
      "       -0.18014245,  0.        ,  0.        ], dtype=float32), 0.5815946842885478, 1, array([ 0.01561975,  1.4295275 ,  0.7836498 ,  0.40087062, -0.0158745 ,\n",
      "       -0.1356732 ,  0.        ,  0.        ], dtype=float32), False]]\n",
      "1/1 [==============================] - 0s 15ms/step\n",
      "[[array([ 0.00785179,  1.4205067 ,  0.7952785 ,  0.42605245, -0.00909141,\n",
      "       -0.18014245,  0.        ,  0.        ], dtype=float32), 0.5815946842885478, 1, array([ 0.01561975,  1.4295275 ,  0.7836498 ,  0.40087062, -0.0158745 ,\n",
      "       -0.1356732 ,  0.        ,  0.        ], dtype=float32), False]]\n",
      "1/1 [==============================] - 0s 15ms/step\n",
      "[[array([ 1.4925003e-04,  1.4144489e+00,  1.5093073e-02,  1.5682842e-01,\n",
      "       -1.6608287e-04, -3.4188156e-03,  0.0000000e+00,  0.0000000e+00],\n",
      "      dtype=float32), 2.13119882697447, 1, array([2.2325516e-04, 1.4174070e+00, 5.6585544e-03, 1.3147412e-01,\n",
      "       1.5531146e-03, 3.4387846e-02, 0.0000000e+00, 0.0000000e+00],\n",
      "      dtype=float32), False]]\n",
      "1/1 [==============================] - 0s 16ms/step\n",
      "[[array([ 0.00761576,  1.41982   ,  0.7713895 ,  0.39552024, -0.0088181 ,\n",
      "       -0.17473128,  0.        ,  0.        ], dtype=float32), 0.5881932030401924, 1, array([ 0.01515341,  1.4281425 ,  0.76049453,  0.36983982, -0.01547632,\n",
      "       -0.13317558,  0.        ,  0.        ], dtype=float32), False]]\n",
      "1/1 [==============================] - 0s 17ms/step\n",
      "[[array([ 1.4925003e-04,  1.4144489e+00,  1.5093073e-02,  1.5682842e-01,\n",
      "       -1.6608287e-04, -3.4188156e-03,  0.0000000e+00,  0.0000000e+00],\n",
      "      dtype=float32), 2.13119882697447, 1, array([2.2325516e-04, 1.4174070e+00, 5.6585544e-03, 1.3147412e-01,\n",
      "       1.5531146e-03, 3.4387846e-02, 0.0000000e+00, 0.0000000e+00],\n",
      "      dtype=float32), False]]\n",
      "1/1 [==============================] - 0s 14ms/step\n",
      "[[array([ 0.00761576,  1.41982   ,  0.7713895 ,  0.39552024, -0.0088181 ,\n",
      "       -0.17473128,  0.        ,  0.        ], dtype=float32), 0.5881932030401924, 1, array([ 0.01515341,  1.4281425 ,  0.76049453,  0.36983982, -0.01547632,\n",
      "       -0.13317558,  0.        ,  0.        ], dtype=float32), False]]\n",
      "1/1 [==============================] - 0s 19ms/step\n",
      "[[array([ 0.00379534,  1.4112558 ,  0.38441977,  0.01491516, -0.00439112,\n",
      "       -0.08707675,  0.        ,  0.        ], dtype=float32), 0.8475334852599599, 1, array([ 0.0075098 ,  1.4110258 ,  0.37374374, -0.01023194, -0.00665617,\n",
      "       -0.0453042 ,  0.        ,  0.        ], dtype=float32), False]]\n",
      "1/1 [==============================] - 0s 15ms/step\n",
      "[[array([-0.00530272,  1.4172465 , -0.5371155 ,  0.28114986,  0.00615124,\n",
      "        0.1216648 ,  0.        ,  0.        ], dtype=float32), -1.3337257217894194, 1, array([-0.0107007 ,  1.4230063 , -0.5483061 ,  0.25593168,  0.01455221,\n",
      "        0.16803521,  0.        ,  0.        ], dtype=float32), False]]\n",
      "1/1 [==============================] - 0s 16ms/step\n",
      "[[array([ 1.4925003e-04,  1.4144489e+00,  1.5093073e-02,  1.5682842e-01,\n",
      "       -1.6608287e-04, -3.4188156e-03,  0.0000000e+00,  0.0000000e+00],\n",
      "      dtype=float32), 2.13119882697447, 1, array([2.2325516e-04, 1.4174070e+00, 5.6585544e-03, 1.3147412e-01,\n",
      "       1.5531146e-03, 3.4387846e-02, 0.0000000e+00, 0.0000000e+00],\n",
      "      dtype=float32), False]]\n"
     ]
    }
   ],
   "source": [
    "from class_utils import ddqn_agent \n",
    "import numpy as np\n",
    "import gym \n",
    "\n",
    "env = gym.make(\"LunarLander-v2\", render_mode=\"human\")\n",
    "\n",
    "obs_space = env.observation_space\n",
    "action_space = env.action_space\n",
    "# print(\"observation space : \", obs_space)\n",
    "# print(\"action_space : \", action_space)\n",
    "\n",
    "#action space [0 = do nothing, 1 = fire left, 2 =  fire right, 3 = fire main (middle)]\n",
    "\n",
    "episode_num = 10\n",
    "\n",
    "\n",
    "#--------------------ddqn agent parameters-----------------------------\n",
    "gamma = 0.99\n",
    "epsilon = 0\n",
    "buffer_size = 50\n",
    "batch_size = 5\n",
    "learning_rate = 0.001 #by default = 0.001 change by passing in Adam(lr=learning_rate)\n",
    "#--------------------ddqn agent parameters-----------------------------\n",
    "\n",
    "\n",
    "\n",
    "agent = ddqn_agent(gamma, epsilon, buffer_size, batch_size)    #takes in gamma episilon and buffer size of memory and batch_size. learning rate(alpha) can be passed\n",
    "\n",
    "for episode_count in range(episode_num):\n",
    "    terminal = False\n",
    "    score = 0\n",
    "    state, dummy = env.reset()\n",
    "    while not terminal:\n",
    "        action, action_array = agent.choose_action(state)\n",
    "\n",
    "        #print(\"action_array\", action_array)\n",
    "        #print(\"chosen_action\", action)\n",
    "        next_state, reward, terminal, dummy2, dummy3 = env.step(action)\n",
    "        agent.store(state, action, reward, next_state, terminal)\n",
    "        state = next_state\n",
    "        agent.calculate()\n",
    "        terminal = True\n",
    "        "
   ]
  }
 ],
 "metadata": {
  "kernelspec": {
   "display_name": "Python 3.9.12 ('base')",
   "language": "python",
   "name": "python3"
  },
  "language_info": {
   "codemirror_mode": {
    "name": "ipython",
    "version": 3
   },
   "file_extension": ".py",
   "mimetype": "text/x-python",
   "name": "python",
   "nbconvert_exporter": "python",
   "pygments_lexer": "ipython3",
   "version": "3.9.12"
  },
  "vscode": {
   "interpreter": {
    "hash": "edbb2447e55a42b4628f21eefb857b61d0020ac0febcdee91e5d523dd661a8e5"
   }
  }
 },
 "nbformat": 4,
 "nbformat_minor": 5
}
