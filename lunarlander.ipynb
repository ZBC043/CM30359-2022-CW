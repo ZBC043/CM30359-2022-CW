{
 "cells": [
  {
   "cell_type": "code",
   "execution_count": 1,
   "id": "905d3971",
   "metadata": {},
   "outputs": [
    {
     "name": "stderr",
     "output_type": "stream",
     "text": [
      "2022-11-26 14:28:03.749921: I tensorflow/core/platform/cpu_feature_guard.cc:193] This TensorFlow binary is optimized with oneAPI Deep Neural Network Library (oneDNN) to use the following CPU instructions in performance-critical operations:  AVX2 FMA\n",
      "To enable them in other operations, rebuild TensorFlow with the appropriate compiler flags.\n",
      "2022-11-26 14:28:11.481764: I tensorflow/core/platform/cpu_feature_guard.cc:193] This TensorFlow binary is optimized with oneAPI Deep Neural Network Library (oneDNN) to use the following CPU instructions in performance-critical operations:  AVX2 FMA\n",
      "To enable them in other operations, rebuild TensorFlow with the appropriate compiler flags.\n"
     ]
    },
    {
     "name": "stdout",
     "output_type": "stream",
     "text": [
      "1/1 [==============================] - 0s 124ms/step\n",
      "\n",
      "1/1 [==============================] - 0s 13ms/step\n",
      "\n",
      "1/1 [==============================] - 0s 14ms/step\n",
      "\n",
      "1/1 [==============================] - 0s 14ms/step\n",
      "\n",
      "1/1 [==============================] - 0s 13ms/step\n",
      "1/1 [==============================] - 0s 14ms/step\n",
      "1/1 [==============================] - 0s 14ms/step\n",
      "1/1 [==============================] - 0s 14ms/step\n",
      "1/1 [==============================] - 0s 13ms/step\n",
      "1/1 [==============================] - 0s 13ms/step\n"
     ]
    }
   ],
   "source": [
    "from class_utils import ddqn_agent \n",
    "import numpy as np\n",
    "import gym \n",
    "\n",
    "env = gym.make(\"LunarLander-v2\", render_mode=\"human\")\n",
    "\n",
    "obs_space = env.observation_space\n",
    "action_space = env.action_space\n",
    "# print(\"observation space : \", obs_space)\n",
    "# print(\"action_space : \", action_space)\n",
    "\n",
    "#action space [0 = do nothing, 1 = fire left, 2 =  fire right, 3 = fire main (middle)]\n",
    "\n",
    "episode_num = 10\n",
    "\n",
    "\n",
    "#--------------------ddqn agent parameters-----------------------------\n",
    "gamma = 0.99\n",
    "epsilon = 0\n",
    "buffer_size = 50\n",
    "batch_size = 5\n",
    "learning_rate = 0.001 #by default = 0.001 change by passing in Adam(lr=learning_rate)\n",
    "#--------------------ddqn agent parameters-----------------------------\n",
    "\n",
    "\n",
    "\n",
    "agent = ddqn_agent(gamma, epsilon, buffer_size, batch_size)    #takes in gamma episilon and buffer size of memory and batch_size. learning rate(alpha) can be passed\n",
    "\n",
    "for episode_count in range(episode_num):\n",
    "    terminal = False\n",
    "    score = 0\n",
    "    state, dummy = env.reset()\n",
    "    while not terminal:\n",
    "        action, action_array = agent.choose_action(state)\n",
    "\n",
    "        #print(\"action_array\", action_array)\n",
    "        #print(\"chosen_action\", action)\n",
    "        next_state, reward, terminal, dummy2, dummy3 = env.step(action)\n",
    "        agent.store(state, action, reward, next_state, terminal)\n",
    "        state = next_state\n",
    "        agent.calculate()\n",
    "        terminal = True\n",
    "        "
   ]
  },
  {
   "cell_type": "code",
   "execution_count": null,
   "id": "a0b11171",
   "metadata": {},
   "outputs": [],
   "source": []
  }
 ],
 "metadata": {
  "kernelspec": {
   "display_name": "Python 3 (ipykernel)",
   "language": "python",
   "name": "python3"
  },
  "language_info": {
   "codemirror_mode": {
    "name": "ipython",
    "version": 3
   },
   "file_extension": ".py",
   "mimetype": "text/x-python",
   "name": "python",
   "nbconvert_exporter": "python",
   "pygments_lexer": "ipython3",
   "version": "3.9.13"
  },
  "vscode": {
   "interpreter": {
    "hash": "edbb2447e55a42b4628f21eefb857b61d0020ac0febcdee91e5d523dd661a8e5"
   }
  }
 },
 "nbformat": 4,
 "nbformat_minor": 5
}
