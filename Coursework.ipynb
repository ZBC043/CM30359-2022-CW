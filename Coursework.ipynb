{
 "cells": [
  {
   "cell_type": "code",
   "execution_count": null,
   "id": "905d3971",
   "metadata": {},
   "outputs": [],
   "source": [
    "import gym \n",
    "import numpy as np\n",
    "\n",
    "\n",
    "env = gym.make(\"CarRacing-v2\", render_mode=\"human\")\n",
    "env.reset()\n",
    "\n",
    "obs_space = env.observation_space\n",
    "action_space = env.action_space\n",
    "print(\"observation space : \", obs_space)\n",
    "print(\"action_space : \", action_space)\n",
    "action = np.array([0.0, 0.5, 0.0])\n",
    "\n",
    "\n",
    "for x in range(0,750):\n",
    "\n",
    "    random_action = env.action_space.sample()\n",
    "    obs, reward, unknown1, unknown2, dict1 = env.step(action)\n",
    "\n",
    "    print(random_action)\n",
    "\n",
    "\n",
    "\n",
    "env.render()\n",
    "env.close()"
   ]
  }
 ],
 "metadata": {
  "kernelspec": {
   "display_name": "Python 3 (ipykernel)",
   "language": "python",
   "name": "python3"
  },
  "language_info": {
   "codemirror_mode": {
    "name": "ipython",
    "version": 3
   },
   "file_extension": ".py",
   "mimetype": "text/x-python",
   "name": "python",
   "nbconvert_exporter": "python",
   "pygments_lexer": "ipython3",
   "version": "3.9.12"
  }
 },
 "nbformat": 4,
 "nbformat_minor": 5
}
