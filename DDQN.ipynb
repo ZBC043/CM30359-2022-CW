{
 "cells": [
  {
   "cell_type": "code",
   "execution_count": 3,
   "id": "f8f5891e",
   "metadata": {},
   "outputs": [],
   "source": [
    "#import some libraries \n",
    "\n",
    "from keras.layers import Dense, Activation\n",
    "from keras.models import Sequential, load_model\n",
    "from keras.optimizers import Adam\n",
    "import numpy as np\n",
    "import gym"
   ]
  },
  {
   "cell_type": "code",
   "execution_count": 5,
   "id": "67b44670",
   "metadata": {},
   "outputs": [],
   "source": [
    "class ReplyBuffer(object):\n",
    "    def __init__(self, max_size, input_shape, n_actions, discrete = False):\n",
    "        self.memory_size = max_size\n",
    "        self.memory_couter = 0\n",
    "        self.discrete = discrete\n",
    "        self.state_memory = np.zeros((self.memory_size, input_shape))\n",
    "        self.new_state_memory = np.zeros((self.memory_size, input_shape))\n",
    "        "
   ]
  },
  {
   "cell_type": "code",
   "execution_count": null,
   "id": "5db82abd",
   "metadata": {},
   "outputs": [],
   "source": []
  }
 ],
 "metadata": {
  "kernelspec": {
   "display_name": "Python 3 (ipykernel)",
   "language": "python",
   "name": "python3"
  },
  "language_info": {
   "codemirror_mode": {
    "name": "ipython",
    "version": 3
   },
   "file_extension": ".py",
   "mimetype": "text/x-python",
   "name": "python",
   "nbconvert_exporter": "python",
   "pygments_lexer": "ipython3",
   "version": "3.9.13"
  }
 },
 "nbformat": 4,
 "nbformat_minor": 5
}
